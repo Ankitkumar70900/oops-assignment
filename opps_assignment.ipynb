{
  "nbformat": 4,
  "nbformat_minor": 0,
  "metadata": {
    "colab": {
      "provenance": []
    },
    "kernelspec": {
      "name": "python3",
      "display_name": "Python 3"
    },
    "language_info": {
      "name": "python"
    }
  },
  "cells": [
    {
      "cell_type": "code",
      "execution_count": null,
      "metadata": {
        "colab": {
          "base_uri": "https://localhost:8080/",
          "height": 70
        },
        "id": "972zleKMjZ4B",
        "outputId": "06e9aaac-538b-4c16-e9e5-76df4362c550"
      },
      "outputs": [
        {
          "output_type": "execute_result",
          "data": {
            "text/plain": [
              "'1. What are data structures, and why are they important?\\nData structures are specialized formats for organizing, processing, and storing data. They are important because they enable efficient data access and modification. Examples include lists, tuples, dictionaries, and sets. Choosing the right structure improves performance and simplifies problem-solving.\\n\\n'"
            ],
            "application/vnd.google.colaboratory.intrinsic+json": {
              "type": "string"
            }
          },
          "metadata": {},
          "execution_count": 1
        }
      ],
      "source": [
        "'''1. What are data structures, and why are they important?\n",
        "Data structures are specialized formats for organizing, processing, and storing data.\n",
        "They are important because they enable efficient data access and modification.\n",
        "Examples include lists, tuples, dictionaries, and sets.\n",
        "Choosing the right structure improves performance and simplifies problem-solving.\n",
        "\n",
        "2. Explain the difference between mutable and immutable data types with examples.\n",
        "Mutable: Can be changed after creation.\n",
        "Example: list = [1, 2, 3] → list[0] = 10\n",
        "\n",
        "Immutable: Cannot be changed after creation.\n",
        "Example: tuple = (1, 2, 3) → tuple[0] = 10 → * Error\n",
        "\n",
        "3. What are the main differences between lists and tuples in Python?\n",
        "Feature\tList\tTuple\n",
        "Syntax\t[1, 2, 3]\t(1, 2, 3)\n",
        "Mutability\tMutable\tImmutable\n",
        "Speed\tSlower\tFaster\n",
        "Use case\tDynamic data\tFixed data\n",
        "\n",
        "4. Describe how dictionaries store data.\n",
        "Dictionaries store data as key-value pairs using a hash table. Each key is unique and maps to a value.\n",
        "Example: {\"name\": \"Ankit\", \"age\": 22}\n",
        "\n",
        "5. Why might you use a set instead of a list in Python?\n",
        "Sets automatically remove duplicates.\n",
        "\n",
        "They offer faster membership tests using hashing.\n",
        "\n",
        "Ideal for operations like unions and intersections.\n",
        "\n",
        "6. What is a string in Python, and how is it different from a list?\n",
        "A string is a sequence of characters, e.g., \"hello\".\n",
        "\n",
        "Strings are immutable, while lists are mutable.\n",
        "\n",
        "Lists can store different types; strings only store characters.\n",
        "\n",
        "7. How do tuples ensure data integrity in Python?\n",
        "Tuples are immutable, which prevents accidental changes. This is useful when you want to protect fixed data, such as coordinates or database keys.\n",
        "\n",
        "8. What is a hash table, and how does it relate to dictionaries in Python?\n",
        "A hash table stores data using a hash function that maps keys to indices. Python's dictionary is built on hash tables for O(1) average time complexity for lookups, insertions, and deletions.\n",
        "\n",
        "9. Can lists contain different data types in Python?\n",
        "Yes. Python lists are heterogeneous, meaning they can hold multiple types:\n",
        "[1, \"hello\", True, 3.5]\n",
        "\n",
        "10. Explain why strings are immutable in Python.\n",
        "Strings are immutable to:\n",
        "\n",
        "Improve performance with memory management.\n",
        "\n",
        "Ensure hash consistency (strings can be used as dictionary keys).\n",
        "\n",
        "Make code safer by avoiding accidental changes.\n",
        "\n",
        "11. What advantages do dictionaries offer over lists for certain tasks?\n",
        "Faster lookups using keys (O(1) time).\n",
        "\n",
        "Better for key-value associations (e.g., storing student info).\n",
        "\n",
        "No need to search by index.\n",
        "\n",
        "12. Describe a scenario where using a tuple would be preferable over a list.\n",
        "When storing fixed data like coordinates (x, y), use a tuple:\n",
        "\n",
        "python\n",
        "Copy\n",
        "Edit\n",
        "location = (28.6139, 77.2090)\n",
        "It's safe from modification.\n",
        "\n",
        "13. How do sets handle duplicate values in Python?\n",
        "Sets automatically discard duplicates.\n",
        "set([1, 2, 2, 3]) → {1, 2, 3}\n",
        "\n",
        "14. How does the in keyword work differently for lists and dictionaries?\n",
        "In lists, in checks for the presence of a value.\n",
        "\n",
        "In dictionaries, in checks for the presence of a key.\n",
        "\n",
        "python\n",
        "Copy\n",
        "Edit\n",
        "3 in [1, 2, 3] → True\n",
        "\"age\" in {\"name\": \"Ankit\", \"age\": 22} → True\n",
        "15. Can you modify the elements of a tuple? Explain why or why not.\n",
        "No. Tuples are immutable, so their elements cannot be changed after creation. Trying to modify them causes a TypeError.\n",
        "\n",
        "16. What is a nested dictionary, and give an example of its use case.\n",
        "A nested dictionary is a dictionary inside another dictionary.\n",
        "Example:\n",
        "\n",
        "python\n",
        "Copy\n",
        "Edit\n",
        "student = {\n",
        "  \"name\": \"Ankit\",\n",
        "  \"marks\": {\"math\": 85, \"science\": 92}\n",
        "}\n",
        "Useful in storing structured data like records.\n",
        "\n",
        "17. Describe the time complexity of accessing elements in a dictionary.\n",
        "O(1) on average due to hashing, which allows direct access using keys. Worst-case is O(n) if many keys hash to the same value (rare).\n",
        "\n",
        "18. In what situations are lists preferred over dictionaries?\n",
        "When order matters and indexing is required.\n",
        "\n",
        "When storing sequences without key-value pairs.\n",
        "\n",
        "For simple iterations or stacks/queues.\n",
        "\n",
        "19. Why are dictionaries considered unordered, and how does that affect data retrieval?\n",
        "Before Python 3.7, dictionaries didn’t preserve insertion order. Though now they do, conceptually they are unordered, meaning retrieval is based on keys, not position/index.\n",
        "\n",
        "20. Explain the difference between a list and a dictionary in terms of data retrieval.\n",
        "List: Retrieve values by index → my_list[2]\n",
        "\n",
        "Dictionary: Retrieve values by key → my_dict[\"name\"]'''\n",
        "\n"
      ]
    },
    {
      "cell_type": "code",
      "source": [
        "#PRACTICAL QUESTION\n",
        "'''1 Write a code to create a string with your name and print it'''\n",
        "name = \"Ankit Kumar\"\n",
        "print(name)\n",
        "\n"
      ],
      "metadata": {
        "colab": {
          "base_uri": "https://localhost:8080/"
        },
        "id": "XwDM_0D0jskF",
        "outputId": "4462e457-9b50-4c6e-e0fd-f69c8fb01be9"
      },
      "execution_count": null,
      "outputs": [
        {
          "output_type": "stream",
          "name": "stdout",
          "text": [
            "Ankit Kumar\n"
          ]
        }
      ]
    },
    {
      "cell_type": "code",
      "source": [
        "#2 Write a code to find the length of the string \"Hello World\"P#\n",
        "text = \"Hello World\"\n",
        "print(len(text))\n"
      ],
      "metadata": {
        "id": "nlJg42Xvkxpx",
        "colab": {
          "base_uri": "https://localhost:8080/"
        },
        "outputId": "f3bb50a4-cf16-4b81-e961-f366295d1fe9"
      },
      "execution_count": 1,
      "outputs": [
        {
          "output_type": "stream",
          "name": "stdout",
          "text": [
            "11\n"
          ]
        }
      ]
    },
    {
      "cell_type": "code",
      "source": [
        "#3 Write a code to slice the first 3 characters from the string \"Python Programming\"P\n",
        "s = \"Python Programming\"\n",
        "print(s[:3])\n"
      ],
      "metadata": {
        "colab": {
          "base_uri": "https://localhost:8080/"
        },
        "id": "hJ_WdjObPv00",
        "outputId": "c1cebdc8-5f1f-470a-db19-e7d8b2aaadf3"
      },
      "execution_count": 2,
      "outputs": [
        {
          "output_type": "stream",
          "name": "stdout",
          "text": [
            "Pyt\n"
          ]
        }
      ]
    },
    {
      "cell_type": "code",
      "source": [
        "#4 Write a code to convert the string \"hello\" to uppercase\n",
        "word = \"hello\"\n",
        "print(word.upper())\n"
      ],
      "metadata": {
        "colab": {
          "base_uri": "https://localhost:8080/"
        },
        "id": "tU1BFEbaP5PS",
        "outputId": "6fb8e14d-9872-42cd-fd1c-fa28270b992b"
      },
      "execution_count": 3,
      "outputs": [
        {
          "output_type": "stream",
          "name": "stdout",
          "text": [
            "HELLO\n"
          ]
        }
      ]
    },
    {
      "cell_type": "code",
      "source": [
        "#5 Write a code to replace the word \"apple\" with \"orange\" in the string \"I like apple\"P\n",
        "sentence = \"I like apple\"\n",
        "new_sentence = sentence.replace(\"apple\", \"orange\")\n",
        "print(new_sentence)\n"
      ],
      "metadata": {
        "colab": {
          "base_uri": "https://localhost:8080/"
        },
        "id": "1F1eisX-QErI",
        "outputId": "4d9c94db-e256-408f-843d-2b8adcbd5554"
      },
      "execution_count": 4,
      "outputs": [
        {
          "output_type": "stream",
          "name": "stdout",
          "text": [
            "I like orange\n"
          ]
        }
      ]
    },
    {
      "cell_type": "code",
      "source": [
        "#6 Write a code to create a list with numbers 1 to 5 and print itP\n",
        "numbers = [1, 2, 3, 4, 5]\n",
        "print(numbers)\n"
      ],
      "metadata": {
        "colab": {
          "base_uri": "https://localhost:8080/"
        },
        "id": "OxDBVYk4QLwz",
        "outputId": "88558787-2572-40bb-f2d9-c041b826222a"
      },
      "execution_count": 5,
      "outputs": [
        {
          "output_type": "stream",
          "name": "stdout",
          "text": [
            "[1, 2, 3, 4, 5]\n"
          ]
        }
      ]
    },
    {
      "cell_type": "code",
      "source": [
        "#7 Write a code to append the number 10 to the list [1, 2, 3, 4]\n",
        "lst = [1, 2, 3, 4]\n",
        "lst.append(10)\n",
        "print(lst)\n"
      ],
      "metadata": {
        "colab": {
          "base_uri": "https://localhost:8080/"
        },
        "id": "4HAXbIaMQVL4",
        "outputId": "a50ae6d1-59c8-498b-b4a2-18abee3fa31d"
      },
      "execution_count": 6,
      "outputs": [
        {
          "output_type": "stream",
          "name": "stdout",
          "text": [
            "[1, 2, 3, 4, 10]\n"
          ]
        }
      ]
    },
    {
      "cell_type": "code",
      "source": [
        "#8 Write a code to remove the number 3 from the list [1, 2, 3, 4, 5]\n",
        "lst = [1, 2, 3, 4, 5]\n",
        "lst.remove(3)\n",
        "print(lst)\n"
      ],
      "metadata": {
        "colab": {
          "base_uri": "https://localhost:8080/"
        },
        "id": "y_b2KYNKQfo5",
        "outputId": "75686680-6182-4504-9c52-b1fd0c210243"
      },
      "execution_count": 7,
      "outputs": [
        {
          "output_type": "stream",
          "name": "stdout",
          "text": [
            "[1, 2, 4, 5]\n"
          ]
        }
      ]
    },
    {
      "cell_type": "code",
      "source": [
        "#9 Write a code to access the second element in the list ['a', 'b', 'c', 'd']\n",
        "letters = ['a', 'b', 'c', 'd']\n",
        "print(letters[1])\n"
      ],
      "metadata": {
        "colab": {
          "base_uri": "https://localhost:8080/"
        },
        "id": "od8eHbrdQmdE",
        "outputId": "0b896d86-3e73-4313-db4a-6e02e3388f02"
      },
      "execution_count": 8,
      "outputs": [
        {
          "output_type": "stream",
          "name": "stdout",
          "text": [
            "b\n"
          ]
        }
      ]
    },
    {
      "cell_type": "code",
      "source": [
        "#10 Write a code to reverse the list [10, 20, 30, 40, 50].\n",
        "lst = [10, 20, 30, 40, 50]\n",
        "lst.reverse()\n",
        "print(lst)\n"
      ],
      "metadata": {
        "colab": {
          "base_uri": "https://localhost:8080/"
        },
        "id": "80XXABvNQt1Y",
        "outputId": "78ae5e13-b18e-400c-974e-0515e1000060"
      },
      "execution_count": 9,
      "outputs": [
        {
          "output_type": "stream",
          "name": "stdout",
          "text": [
            "[50, 40, 30, 20, 10]\n"
          ]
        }
      ]
    },
    {
      "cell_type": "code",
      "source": [
        "#11. Write a code to create a tuple with the elements 100, 200, 300 and print it.\n",
        "\n",
        "t = (100, 200, 300)\n",
        "print(t)"
      ],
      "metadata": {
        "colab": {
          "base_uri": "https://localhost:8080/"
        },
        "id": "YSE0J8X3Qzfk",
        "outputId": "8d30bb1b-945a-4c0f-e8ae-2b4d3f1011f1"
      },
      "execution_count": 11,
      "outputs": [
        {
          "output_type": "stream",
          "name": "stdout",
          "text": [
            "(100, 200, 300)\n"
          ]
        }
      ]
    },
    {
      "cell_type": "code",
      "source": [
        "#12. Write a code to access the second-to-last element of the tuple ('red', 'green', 'blue', 'yellow').\n",
        "\n",
        "colors = ('red', 'green', 'blue', 'yellow')\n",
        "print(colors[-2])"
      ],
      "metadata": {
        "colab": {
          "base_uri": "https://localhost:8080/"
        },
        "id": "tt6gCajtRYD4",
        "outputId": "ef21da7a-58b5-413e-98a4-eabc09d66af9"
      },
      "execution_count": 12,
      "outputs": [
        {
          "output_type": "stream",
          "name": "stdout",
          "text": [
            "blue\n"
          ]
        }
      ]
    },
    {
      "cell_type": "code",
      "source": [
        "#13. Write a code to find the minimum number in the tuple (10, 20, 5, 15).\n",
        "\n",
        "nums = (10, 20, 5, 15)\n",
        "print(min(nums))"
      ],
      "metadata": {
        "colab": {
          "base_uri": "https://localhost:8080/"
        },
        "id": "hT-sFqbqRdcZ",
        "outputId": "55b57be5-9a55-4283-bdbf-6251db51694c"
      },
      "execution_count": 13,
      "outputs": [
        {
          "output_type": "stream",
          "name": "stdout",
          "text": [
            "5\n"
          ]
        }
      ]
    },
    {
      "cell_type": "code",
      "source": [
        "#14. Write a code to find the index of the element \"cat\" in the tuple ('dog', 'cat', 'rabbit').\n",
        "\n",
        "animals = ('dog', 'cat', 'rabbit')\n",
        "print(animals.index(\"cat\"))"
      ],
      "metadata": {
        "colab": {
          "base_uri": "https://localhost:8080/"
        },
        "id": "3PXIP3CURiEM",
        "outputId": "db8f635c-8fc6-4330-d429-eb39211d1f7a"
      },
      "execution_count": 14,
      "outputs": [
        {
          "output_type": "stream",
          "name": "stdout",
          "text": [
            "1\n"
          ]
        }
      ]
    },
    {
      "cell_type": "code",
      "source": [
        "#15. Write a code to create a tuple containing three different fruits and check if \"kiwi\" is in it.\n",
        "\n",
        "fruits = (\"apple\", \"banana\", \"orange\")\n",
        "print(\"kiwi\" in fruits)"
      ],
      "metadata": {
        "colab": {
          "base_uri": "https://localhost:8080/"
        },
        "id": "SoOssuBiRmoL",
        "outputId": "0df09171-0432-47ab-c17f-c1438ca9a640"
      },
      "execution_count": 15,
      "outputs": [
        {
          "output_type": "stream",
          "name": "stdout",
          "text": [
            "False\n"
          ]
        }
      ]
    },
    {
      "cell_type": "code",
      "source": [
        "#16. Write a code to create a set with the elements 'a', 'b', 'c' and print it.\n",
        "\n",
        "s = {'a', 'b', 'c'}\n",
        "print(s)"
      ],
      "metadata": {
        "colab": {
          "base_uri": "https://localhost:8080/"
        },
        "id": "vs8Fly-nRrCb",
        "outputId": "8ea614b9-5442-4525-a2d5-41cd90b19972"
      },
      "execution_count": 17,
      "outputs": [
        {
          "output_type": "stream",
          "name": "stdout",
          "text": [
            "{'c', 'a', 'b'}\n"
          ]
        }
      ]
    },
    {
      "cell_type": "code",
      "source": [
        "#17. Write a code to clear all elements from the set {1, 2, 3, 4, 5}.\n",
        "\n",
        "s = {1, 2, 3, 4, 5}\n",
        "s.clear()\n",
        "print(s)"
      ],
      "metadata": {
        "colab": {
          "base_uri": "https://localhost:8080/"
        },
        "id": "4LgUENQwRuLN",
        "outputId": "f62071e0-9afd-48a5-d686-83316787d12a"
      },
      "execution_count": 18,
      "outputs": [
        {
          "output_type": "stream",
          "name": "stdout",
          "text": [
            "set()\n"
          ]
        }
      ]
    },
    {
      "cell_type": "code",
      "source": [
        "#18. Write a code to remove the element 4 from the set {1, 2, 3, 4}.\n",
        "s = {1, 2, 3, 4}\n",
        "s.remove(4)\n",
        "print(s)"
      ],
      "metadata": {
        "colab": {
          "base_uri": "https://localhost:8080/"
        },
        "id": "qIU9ADG7R2OX",
        "outputId": "75db2246-e602-4168-a8e4-3af8e9a08e23"
      },
      "execution_count": 19,
      "outputs": [
        {
          "output_type": "stream",
          "name": "stdout",
          "text": [
            "{1, 2, 3}\n"
          ]
        }
      ]
    },
    {
      "cell_type": "code",
      "source": [
        "#19. Write a code to find the union of two sets {1, 2, 3} and {3, 4, 5}.\n",
        "\n",
        "a = {1, 2, 3}\n",
        "b = {3, 4, 5}\n",
        "print(a.union(b))"
      ],
      "metadata": {
        "colab": {
          "base_uri": "https://localhost:8080/"
        },
        "id": "1ro3zrI7R6q5",
        "outputId": "834e66ba-7522-41cb-9797-ae7a2c2d63f6"
      },
      "execution_count": 20,
      "outputs": [
        {
          "output_type": "stream",
          "name": "stdout",
          "text": [
            "{1, 2, 3, 4, 5}\n"
          ]
        }
      ]
    },
    {
      "cell_type": "code",
      "source": [
        "#20. Write a code to find the intersection of two sets {1, 2, 3} and {2, 3, 4}.\n",
        "a = {1, 2, 3}\n",
        "b = {2, 3, 4}\n",
        "print(a.intersection(b))"
      ],
      "metadata": {
        "colab": {
          "base_uri": "https://localhost:8080/"
        },
        "id": "m13u-tMbR-Od",
        "outputId": "cc556622-47ad-4f26-85c4-4fc35582c584"
      },
      "execution_count": 21,
      "outputs": [
        {
          "output_type": "stream",
          "name": "stdout",
          "text": [
            "{2, 3}\n"
          ]
        }
      ]
    },
    {
      "cell_type": "code",
      "source": [
        "#21. Write a code to create a dictionary with the keys \"name\", \"age\", and \"city\", and print it.\n",
        "person = {\"name\": \"John\", \"age\": 25, \"city\": \"New York\"}\n",
        "print(person)"
      ],
      "metadata": {
        "colab": {
          "base_uri": "https://localhost:8080/"
        },
        "id": "OnHmd7QDSBxW",
        "outputId": "90aab1f6-c3f7-46b5-aecf-22eb91c41a40"
      },
      "execution_count": 22,
      "outputs": [
        {
          "output_type": "stream",
          "name": "stdout",
          "text": [
            "{'name': 'John', 'age': 25, 'city': 'New York'}\n"
          ]
        }
      ]
    },
    {
      "cell_type": "code",
      "source": [
        "#22. Write a code to add a new key-value pair \"country\": \"USA\" to the dictionary {'name': 'John', 'age': 25}.\n",
        "\n",
        "person = {'name': 'John', 'age': 25}\n",
        "person[\"country\"] = \"USA\"\n",
        "print(person)"
      ],
      "metadata": {
        "colab": {
          "base_uri": "https://localhost:8080/"
        },
        "id": "qGxk_5hRSF_4",
        "outputId": "f81e399b-ca2f-4034-a9aa-67d714a0bc51"
      },
      "execution_count": 23,
      "outputs": [
        {
          "output_type": "stream",
          "name": "stdout",
          "text": [
            "{'name': 'John', 'age': 25, 'country': 'USA'}\n"
          ]
        }
      ]
    },
    {
      "cell_type": "code",
      "source": [
        "#23. Write a code to access the value associated with the key \"name\" in the dictionary {'name': 'Alice', 'age': 30}.\n",
        "\n",
        "person = {'name': 'Alice', 'age': 30}\n",
        "print(person[\"name\"])"
      ],
      "metadata": {
        "colab": {
          "base_uri": "https://localhost:8080/"
        },
        "id": "AiWM4cVsSKHb",
        "outputId": "8700c5f5-09f0-42ca-a259-d33c27241f1d"
      },
      "execution_count": 24,
      "outputs": [
        {
          "output_type": "stream",
          "name": "stdout",
          "text": [
            "Alice\n"
          ]
        }
      ]
    },
    {
      "cell_type": "code",
      "source": [
        "#24. Write a code to remove the key \"age\" from the dictionary {'name': 'Bob', 'age': 22, 'city': 'New York'}.\n",
        "\n",
        "person = {'name': 'Bob', 'age': 22, 'city': 'New York'}\n",
        "person.pop(\"age\")\n",
        "print(person)"
      ],
      "metadata": {
        "colab": {
          "base_uri": "https://localhost:8080/"
        },
        "id": "Je8_l_EXSO7M",
        "outputId": "966bd07a-78a9-4f83-8e25-f4f47228c32d"
      },
      "execution_count": 25,
      "outputs": [
        {
          "output_type": "stream",
          "name": "stdout",
          "text": [
            "{'name': 'Bob', 'city': 'New York'}\n"
          ]
        }
      ]
    },
    {
      "cell_type": "code",
      "source": [
        "#25. Write a code to check if the key \"city\" exists in the dictionary {'name': 'Alice', 'city': 'Paris'}.\n",
        "\n",
        "person = {'name': 'Alice', 'city': 'Paris'}\n",
        "print(\"city\" in person)"
      ],
      "metadata": {
        "colab": {
          "base_uri": "https://localhost:8080/"
        },
        "id": "bUDZ8FrQSTiT",
        "outputId": "5ee0d833-c897-4c49-c11b-1386580924a9"
      },
      "execution_count": 26,
      "outputs": [
        {
          "output_type": "stream",
          "name": "stdout",
          "text": [
            "True\n"
          ]
        }
      ]
    },
    {
      "cell_type": "code",
      "source": [
        "#26. Write a code to create a list, a tuple, and a dictionary, and print them all.\n",
        "\n",
        "lst = [1, 2, 3]\n",
        "tpl = (4, 5, 6)\n",
        "dct = {\"a\": 1, \"b\": 2}\n",
        "print(lst, tpl, dct)"
      ],
      "metadata": {
        "colab": {
          "base_uri": "https://localhost:8080/"
        },
        "id": "AVYCf2KcSW-z",
        "outputId": "9ef336c8-a8c2-45d3-9cd4-c76158d3d66e"
      },
      "execution_count": 27,
      "outputs": [
        {
          "output_type": "stream",
          "name": "stdout",
          "text": [
            "[1, 2, 3] (4, 5, 6) {'a': 1, 'b': 2}\n"
          ]
        }
      ]
    },
    {
      "cell_type": "code",
      "source": [
        "#27. Write a code to create a list of 5 random numbers between 1 and 100, sort it in ascending order, and print the result.\n",
        "\n",
        "import random\n",
        "numbers = random.sample(range(1, 101), 5)\n",
        "numbers.sort()\n",
        "print(numbers)"
      ],
      "metadata": {
        "colab": {
          "base_uri": "https://localhost:8080/"
        },
        "id": "JglcGyZrSd-b",
        "outputId": "4a9cadc5-1a02-472d-bf38-823b15831828"
      },
      "execution_count": 28,
      "outputs": [
        {
          "output_type": "stream",
          "name": "stdout",
          "text": [
            "[23, 27, 55, 71, 76]\n"
          ]
        }
      ]
    },
    {
      "cell_type": "code",
      "source": [
        "#28. Write a code to create a list with strings and print the element at the third index.\n",
        "\n",
        "words = [\"apple\", \"banana\", \"cherry\", \"date\", \"elderberry\"]\n",
        "print(words[3])"
      ],
      "metadata": {
        "colab": {
          "base_uri": "https://localhost:8080/"
        },
        "id": "syd6Gog1Sims",
        "outputId": "2ffbe6cb-8dcd-4d7b-93d9-fe8b9caa7549"
      },
      "execution_count": 29,
      "outputs": [
        {
          "output_type": "stream",
          "name": "stdout",
          "text": [
            "date\n"
          ]
        }
      ]
    },
    {
      "cell_type": "code",
      "source": [
        "#29. Write a code to combine two dictionaries into one and print the result.\n",
        "\n",
        "dict1 = {\"a\": 1, \"b\": 2}\n",
        "dict2 = {\"c\": 3, \"d\": 4}\n",
        "combined = {**dict1, **dict2}\n",
        "print(combined)"
      ],
      "metadata": {
        "colab": {
          "base_uri": "https://localhost:8080/"
        },
        "id": "4wHFgxMhSrLb",
        "outputId": "42e7ef52-1f71-4798-c694-aa73f45f233e"
      },
      "execution_count": 30,
      "outputs": [
        {
          "output_type": "stream",
          "name": "stdout",
          "text": [
            "{'a': 1, 'b': 2, 'c': 3, 'd': 4}\n"
          ]
        }
      ]
    },
    {
      "cell_type": "code",
      "source": [
        "#30. Write a code to convert a list of strings into a set.\n",
        "\n",
        "str_list = [\"apple\", \"banana\", \"apple\", \"cherry\"]\n",
        "str_set = set(str_list)\n",
        "print(str_set)"
      ],
      "metadata": {
        "colab": {
          "base_uri": "https://localhost:8080/"
        },
        "id": "ZmETWQ3mSvPW",
        "outputId": "efa27de5-0000-421e-c006-3b3cc05e3116"
      },
      "execution_count": 31,
      "outputs": [
        {
          "output_type": "stream",
          "name": "stdout",
          "text": [
            "{'cherry', 'apple', 'banana'}\n"
          ]
        }
      ]
    },
    {
      "cell_type": "code",
      "source": [],
      "metadata": {
        "id": "5ev1FCEqS1pF"
      },
      "execution_count": null,
      "outputs": []
    }
  ]
}